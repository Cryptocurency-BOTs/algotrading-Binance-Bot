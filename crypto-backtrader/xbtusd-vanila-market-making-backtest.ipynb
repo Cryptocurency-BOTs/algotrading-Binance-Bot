{
 "cells": [
  {
   "cell_type": "markdown",
   "metadata": {},
   "source": [
    "### Too slow to run 5-s sampled data..."
   ]
  },
  {
   "cell_type": "code",
   "execution_count": 1,
   "metadata": {},
   "outputs": [],
   "source": [
    "import argparse\n",
    "import datetime\n",
    "import os.path\n",
    "import time\n",
    "import sys\n",
    "import numpy as np\n",
    "import itertools\n",
    "import pandas as pd\n",
    "import backtrader as bt\n",
    "    \n",
    "class Position(bt.observer.Observer):\n",
    "    '''This observer keeps track of the current portfolio value in the broker\n",
    "    including the cash\n",
    "    Params:\n",
    "      - ``fund`` (default: ``None``)\n",
    "        If ``None`` the actual mode of the broker (fundmode - True/False) will\n",
    "        be autodetected to decide if the returns are based on the total net\n",
    "        asset value or on the fund value. See ``set_fundmode`` in the broker\n",
    "        documentation\n",
    "        Set it to ``True`` or ``False`` for a specific behavior\n",
    "    '''\n",
    "    lines = ('value',)\n",
    "\n",
    "    plotinfo = dict(plot=True, subplot=True)\n",
    "\n",
    "    def next(self):\n",
    "        self.lines[0][0] = self._owner.broker.getposition(self.data).size\n",
    "\n",
    "class CustomPandasData(bt.feeds.PandasData):\n",
    "    lines = ('best_bid', 'best_ask', 'imbalance05', 'imbalance10', 'imbalance25', 'imbalance50', 'imbalance75', 'imbalance100')\n",
    "    params = (\n",
    "        ('nullvalue', float('NaN')),\n",
    "#         ('dtformat', '%Y-%m-%d %H:%M:%S'),\n",
    "\n",
    "        ('datetime', None),\n",
    "        ('open', 0),\n",
    "        ('high', 1),\n",
    "        ('low', 2),\n",
    "        ('close', 3),\n",
    "        ('volume', 4),\n",
    "        ('openinterest', -1),\n",
    "        ('best_bid', 5),\n",
    "        ('best_ask', 6),\n",
    "        ('imbalance05', 7),\n",
    "        ('imbalance10', 8),\n",
    "        ('imbalance25', 9),\n",
    "        ('imbalance50', 10),\n",
    "        ('imbalance75', 11),\n",
    "        ('imbalance100', 12),\n",
    "    )"
   ]
  },
  {
   "cell_type": "code",
   "execution_count": 2,
   "metadata": {},
   "outputs": [],
   "source": [
    "class St(bt.Strategy):\n",
    "    def __init__(self):\n",
    "        self.buy_order = None\n",
    "        self.sell_order = None\n",
    "    \n",
    "    def next(self):\n",
    "        # { 'A': 152.2752233323304, 'B': 130.81676890098976, 'half_spread': 0.005462219490893135, 'imbalance': 9 }\n",
    "        A = 152.2752233323304\n",
    "        B = 130.81676890098976\n",
    "        half_spread = 0.005462219490893135\n",
    "        max_position = 100\n",
    "        \n",
    "        x = self.position.size\n",
    "        skew = B * x / max_position * -1\n",
    "        quote_mid_price = self.data.close[0] + A * self.data.imbalance25[0] / 100000000 + skew\n",
    "        tick_size = 0.5\n",
    "        \n",
    "        new_bid = np.minimum(np.minimum(np.round(quote_mid_price * (1 - half_spread) / tick_size) * tick_size, self.data.close[0] - tick_size), self.data.best_bid[0])\n",
    "        new_ask = np.maximum(np.maximum(np.round(quote_mid_price * (1 + half_spread) / tick_size) * tick_size, self.data.close[0] + tick_size), self.data.best_ask[0])\n",
    "\n",
    "        if x >= max_position:\n",
    "            new_bid = np.nan\n",
    "        if x <= -max_position:\n",
    "            new_ask = np.nan\n",
    "        \n",
    "        if self.buy_order is not None:\n",
    "            self.buy_order.cancel()\n",
    "            self.buy_order = None\n",
    "        if np.isfinite(new_bid):\n",
    "            self.buy_order = self.buy(price=new_bid, size=1, exectype=bt.Order.Limit)\n",
    "            \n",
    "        if self.sell_order is not None:\n",
    "            self.sell_order.cancel()\n",
    "            self.sell_order = None\n",
    "        if np.isfinite(new_ask):\n",
    "            self.sell_order = self.sell(price=new_ask, size=1, exectype=bt.Order.Limit)            \n",
    "            \n",
    "def run():\n",
    "    datakwargs = dict()\n",
    "#     fromdate = datetime.datetime.strptime(args.fromdate, '%Y-%m-%d')\n",
    "#     datakwargs['fromdate'] = fromdate\n",
    "#     todate = datetime.datetime.strptime(args.todate, '%Y-%m-%d')\n",
    "#     datakwargs['todate'] = todate\n",
    "\n",
    "    df = pd.read_pickle('../../data/data')\n",
    "    df = df[(df.index > '2021-01-01') & (df.index < '2021-1-31')]\n",
    "    data = CustomPandasData(dataname=df, timeframe=bt.TimeFrame.Seconds, compression=5)\n",
    "\n",
    "    cerebro = bt.Cerebro()\n",
    "    cerebro.adddata(data)\n",
    "\n",
    "    cash = 1000000\n",
    "    \n",
    "    cerebro.broker.set_cash(cash)\n",
    "    cerebro.broker.setcommission(commission=-0.00025, margin=False)\n",
    "    cerebro.addstrategy(St)\n",
    "\n",
    "    cerebro.addobserver(bt.observers.BuySell)\n",
    "    cerebro.addobserver(bt.observers.Value, timeframe=bt.TimeFrame.Minutes, compression=60)\n",
    "    cerebro.addobserver(Position, timeframe=bt.TimeFrame.Minutes, compression=60)\n",
    "    \n",
    "#     cerebro.addanalyzer(bt.analyzers.SharpeRatio, timeframe=bt.TimeFrame.Minutes, compression=60)\n",
    "#     cerebro.addanalyzer(bt.analyzers.Calmar, timeframe=bt.TimeFrame.Minutes, compression=60)\n",
    "    cerebro.addanalyzer(bt.analyzers.DrawDown)\n",
    "    cerebro.addanalyzer(bt.analyzers.TimeReturn, timeframe=bt.TimeFrame.Minutes, compression=60)\n",
    "    \n",
    "    stats = cerebro.run(stdstats=False)\n",
    "    cerebro.plot(style='bar')\n",
    "\n",
    "    return stats"
   ]
  },
  {
   "cell_type": "code",
   "execution_count": null,
   "metadata": {},
   "outputs": [],
   "source": [
    "%%time\n",
    "stats = run()"
   ]
  },
  {
   "cell_type": "code",
   "execution_count": null,
   "metadata": {},
   "outputs": [],
   "source": [
    "stats[0].analyzers.drawdown.get_analysis()"
   ]
  },
  {
   "cell_type": "code",
   "execution_count": null,
   "metadata": {},
   "outputs": [],
   "source": [
    "hourly_returns = [i for i in x[0].analyzers.timereturn.get_analysis().values()]"
   ]
  },
  {
   "cell_type": "code",
   "execution_count": null,
   "metadata": {},
   "outputs": [],
   "source": [
    "np.mean(hourly_returns) / np.std(hourly_returns) * np.sqrt(24 * 252)"
   ]
  },
  {
   "cell_type": "code",
   "execution_count": null,
   "metadata": {},
   "outputs": [],
   "source": []
  },
  {
   "cell_type": "code",
   "execution_count": null,
   "metadata": {},
   "outputs": [],
   "source": []
  },
  {
   "cell_type": "code",
   "execution_count": null,
   "metadata": {},
   "outputs": [],
   "source": []
  }
 ],
 "metadata": {
  "kernelspec": {
   "display_name": "Python 3",
   "language": "python",
   "name": "python3"
  },
  "language_info": {
   "codemirror_mode": {
    "name": "ipython",
    "version": 3
   },
   "file_extension": ".py",
   "mimetype": "text/x-python",
   "name": "python",
   "nbconvert_exporter": "python",
   "pygments_lexer": "ipython3",
   "version": "3.8.5"
  }
 },
 "nbformat": 4,
 "nbformat_minor": 4
}
